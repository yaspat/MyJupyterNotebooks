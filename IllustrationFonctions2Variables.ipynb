{
 "cells": [
  {
   "cell_type": "code",
   "execution_count": null,
   "metadata": {
    "code_folding": [
     0,
     10
    ],
    "slideshow": {
     "slide_type": "slide"
    }
   },
   "outputs": [],
   "source": [
    "## BAZAR POUR INITIALISER\n",
    "\n",
    "from IPython.core.display import display, HTML\n",
    "import json\n",
    "import numpy as np\n",
    "import matplotlib.pyplot as plt\n",
    "from matplotlib import animation,rc\n",
    "\n",
    "def plot3D(X, Y, Z, height=600, xlabel = \"X\", ylabel = \"Y\", zlabel = \"Z\", initialCamera = None):\n",
    "\n",
    "    options = {\n",
    "        \"width\": \"100%\",\n",
    "        \"style\": \"surface\",\n",
    "        \"showPerspective\": True,\n",
    "        \"showGrid\": True,\n",
    "        \"showShadow\": False,\n",
    "        \"keepAspectRatio\": True,\n",
    "        \"height\": str(height) + \"px\"\n",
    "    }\n",
    "\n",
    "    if initialCamera:\n",
    "        options[\"cameraPosition\"] = initialCamera\n",
    "        \n",
    "    data = [ {\"x\": X[y,x], \"y\": Y[y,x], \"z\": Z[y,x]} for y in range(X.shape[0]) for x in range(X.shape[1]) ]\n",
    "    visCode = r\"\"\"\n",
    "       <link href=\"https://cdnjs.cloudflare.com/ajax/libs/vis/4.21.0/vis.min.css\" type=\"text/css\" rel=\"stylesheet\" />\n",
    "       <script src=\"https://cdnjs.cloudflare.com/ajax/libs/vis/4.21.0/vis.min.js\"></script>\n",
    "       <div id=\"pos\" style=\"top:0px;left:0px;position:absolute;\"></div>\n",
    "       <div id=\"visualization\"></div>\n",
    "       <script type=\"text/javascript\">\n",
    "        var data = new vis.DataSet();\n",
    "        data.add(\"\"\" + json.dumps(data) + \"\"\");\n",
    "        var options = \"\"\" + json.dumps(options) + \"\"\";\n",
    "        var container = document.getElementById(\"visualization\");\n",
    "        var graph3d = new vis.Graph3d(container, data, options);\n",
    "        graph3d.on(\"cameraPositionChange\", function(evt)\n",
    "        {\n",
    "            elem = document.getElementById(\"pos\");\n",
    "            elem.innerHTML = \"H: \" + evt.horizontal + \"<br>V: \" + evt.vertical + \"<br>D: \" + evt.distance;\n",
    "        });\n",
    "       </script>\n",
    "    \"\"\"\n",
    "    htmlCode = \"<iframe srcdoc='\"+visCode+\"' width='100%' height='\" + str(height) + \"px' style='border:0;' scrolling='no'> </iframe>\"\n",
    "    display(HTML(htmlCode))"
   ]
  },
  {
   "cell_type": "markdown",
   "metadata": {
    "slideshow": {
     "slide_type": "slide"
    }
   },
   "source": [
    "# Exemple 1 :  $f(x,y)=1- x^2-y^2$"
   ]
  },
  {
   "cell_type": "code",
   "execution_count": null,
   "metadata": {
    "code_folding": [
     0
    ],
    "slideshow": {
     "slide_type": "fragment"
    }
   },
   "outputs": [],
   "source": [
    "def f(x,y):\n",
    "    u1 = 1-x**2-y**2\n",
    "    u2 = (x**2+y**2<=1)\n",
    "    return np.multiply(u1,u2)\n",
    "X1= np.linspace(-1, 1,50)\n",
    "Y1 = np.linspace(-1, 1,50)\n",
    "X1, Y1 = np.meshgrid(X1, Y1)\n",
    "Z1 = f(X1,Y1)"
   ]
  },
  {
   "cell_type": "code",
   "execution_count": null,
   "metadata": {
    "slideshow": {
     "slide_type": "slide"
    }
   },
   "outputs": [],
   "source": [
    "plot3D(X1,Y1,Z1) # z = 1 - x**2 - y**2"
   ]
  },
  {
   "cell_type": "markdown",
   "metadata": {
    "slideshow": {
     "slide_type": "slide"
    }
   },
   "source": [
    "# Exemple 2 : $f(x,y)=x^2-y^2$"
   ]
  },
  {
   "cell_type": "code",
   "execution_count": null,
   "metadata": {
    "slideshow": {
     "slide_type": "fragment"
    }
   },
   "outputs": [],
   "source": [
    "X2= np.linspace(-2, 2, 50)\n",
    "Y2 = np.linspace(-2, 2, 50)\n",
    "X2, Y2 = np.meshgrid(X2, Y2)\n",
    "Z2 = X2**2-Y2**2"
   ]
  },
  {
   "cell_type": "code",
   "execution_count": null,
   "metadata": {
    "slideshow": {
     "slide_type": "slide"
    }
   },
   "outputs": [],
   "source": [
    "plot3D(X2,Y2,Z2) # z = x**2 - y**2"
   ]
  },
  {
   "cell_type": "markdown",
   "metadata": {
    "slideshow": {
     "slide_type": "slide"
    }
   },
   "source": [
    "# Exemple 3 : $f(x,y)= \\sin\\left( 2\\pi\\left( \\dfrac{x}{2}+\\dfrac{y}{4}\\right)\\right)$"
   ]
  },
  {
   "cell_type": "code",
   "execution_count": null,
   "metadata": {
    "slideshow": {
     "slide_type": "fragment"
    }
   },
   "outputs": [],
   "source": [
    "X3= np.linspace(-2, 2, 50)\n",
    "Y3 = np.linspace(-2, 2, 50)\n",
    "X3, Y3 = np.meshgrid(X3, Y3)\n",
    "Z3 = np.sin(2*np.pi*(0.5*X3+0.25*Y3))"
   ]
  },
  {
   "cell_type": "code",
   "execution_count": null,
   "metadata": {
    "slideshow": {
     "slide_type": "slide"
    }
   },
   "outputs": [],
   "source": [
    "plot3D(X3,Y3,Z3) # z = sin(2*pi(0.5*x + 0.25*y))"
   ]
  },
  {
   "cell_type": "markdown",
   "metadata": {
    "slideshow": {
     "slide_type": "slide"
    }
   },
   "source": [
    "# Exemple 4 : advection $\\dfrac{\\partial u}{\\partial t}+v\\dfrac{\\partial u}{\\partial x}=0$"
   ]
  },
  {
   "cell_type": "markdown",
   "metadata": {
    "slideshow": {
     "slide_type": "slide"
    }
   },
   "source": [
    "## Tracé de la surface (statique)"
   ]
  },
  {
   "cell_type": "code",
   "execution_count": null,
   "metadata": {
    "code_folding": [
     0
    ],
    "slideshow": {
     "slide_type": "fragment"
    }
   },
   "outputs": [],
   "source": [
    "def u0(t,x):\n",
    "    v = 1 \n",
    "    return 1/(1+(x-v*t)**2)\n",
    "T2 = np.linspace(0,5,50)      \n",
    "X2 = np.linspace(-10,10,50)    \n",
    "u0 = np.vectorize(u0) \n",
    "T2,X2 = np.meshgrid(T2,X2)       \n",
    "Z2 = u0(T2,X2)   "
   ]
  },
  {
   "cell_type": "code",
   "execution_count": null,
   "metadata": {
    "scrolled": true,
    "slideshow": {
     "slide_type": "slide"
    }
   },
   "outputs": [],
   "source": [
    "plot3D(T2,X2,Z2) # Tracé de u(t,x) = (x-v*t)**(-2)"
   ]
  },
  {
   "cell_type": "markdown",
   "metadata": {
    "slideshow": {
     "slide_type": "fragment"
    }
   },
   "source": [
    "$u(t,x)= \\dfrac{1}{(x-vt)^2}$"
   ]
  },
  {
   "cell_type": "markdown",
   "metadata": {
    "slideshow": {
     "slide_type": "slide"
    }
   },
   "source": [
    "## Point de vue évolution (dynamique)"
   ]
  },
  {
   "cell_type": "code",
   "execution_count": null,
   "metadata": {
    "code_folding": [
     0
    ],
    "slideshow": {
     "slide_type": "fragment"
    }
   },
   "outputs": [],
   "source": [
    "# 1. définition du cadre\n",
    "fig, ax = plt.subplots()\n",
    "ax.set_xlim((-5, 5))\n",
    "ax.set_ylim((0,2.5))\n",
    "ax.grid('on')\n",
    "line, = ax.plot([], [], lw=2)\n",
    "# 2. Animation (appels successifs)\n",
    "def animate(i):\n",
    "    x = np.linspace(-10,10, 1000)\n",
    "    y =1/(1+(x-0.01*i)**2)\n",
    "    ax.set_title(r'$u(t,x) = \\frac{{1}}{{(x-vt^2)}}$ t={}'.format(i/100))\n",
    "    line.set_data(x, y)\n",
    "    return (line,)\n",
    "#3. Fonction d'initialisation (dessine le cadre pour chaque image)\n",
    "def init():\n",
    "    line.set_data([], [])\n",
    "    return (line,)\n",
    "#4.  Appel de l'animateur. blit=True pour ne redessiner que ce qui a changé\n",
    "anim = animation.FuncAnimation(fig, animate, init_func=init,\n",
    "                               frames=500, interval=50, blit=True)"
   ]
  },
  {
   "cell_type": "code",
   "execution_count": null,
   "metadata": {
    "slideshow": {
     "slide_type": "slide"
    }
   },
   "outputs": [],
   "source": [
    "HTML(anim.to_html5_video())"
   ]
  },
  {
   "cell_type": "markdown",
   "metadata": {
    "slideshow": {
     "slide_type": "slide"
    }
   },
   "source": [
    "# Exemple 5 : diffusion $\\dfrac{\\partial u}{\\partial t}-D\\dfrac{\\partial u}{\\partial x^2}=0$"
   ]
  },
  {
   "cell_type": "markdown",
   "metadata": {
    "slideshow": {
     "slide_type": "slide"
    }
   },
   "source": [
    "## Point de vue statique"
   ]
  },
  {
   "cell_type": "code",
   "execution_count": null,
   "metadata": {
    "slideshow": {
     "slide_type": "fragment"
    }
   },
   "outputs": [],
   "source": [
    "def f0(x,t):\n",
    "    pi =np.pi\n",
    "    Q = 5\n",
    "    D = 1/(4*pi)\n",
    "    return (5/(np.sqrt(4*pi*D*t)))*np.exp(-x**2/(4*D*t))\n",
    "T2 = np.linspace(0.1,10,50)      \n",
    "X2 = np.linspace(-7,7,50)    \n",
    "f0 = np.vectorize(f0)\n",
    "X2,T2 = np.meshgrid(X2,T2)       \n",
    "Z2 = f0(X2,T2)   "
   ]
  },
  {
   "cell_type": "code",
   "execution_count": null,
   "metadata": {
    "slideshow": {
     "slide_type": "slide"
    }
   },
   "outputs": [],
   "source": [
    "plot3D(T2,X2,Z2) # Tracé du noyau de la chaleur"
   ]
  },
  {
   "cell_type": "markdown",
   "metadata": {
    "slideshow": {
     "slide_type": "slide"
    }
   },
   "source": [
    "## Point de vue dynamique"
   ]
  },
  {
   "cell_type": "code",
   "execution_count": null,
   "metadata": {
    "slideshow": {
     "slide_type": "fragment"
    }
   },
   "outputs": [],
   "source": [
    "# 1. définition du cadre\n",
    "fig, ax = plt.subplots()\n",
    "ax.set_xlim((-7, 7))\n",
    "ax.set_ylim((0,8))\n",
    "ax.grid('on')\n",
    "line, = ax.plot([], [], lw=2)\n",
    "# 2. Animation (appels successifs)\n",
    "def animate(i):\n",
    "    pi =np.pi\n",
    "    Q = 5\n",
    "    D = 1/(4*pi)\n",
    "    x = np.linspace(-7,7, 1000)\n",
    "    y =(5/(np.sqrt(4*pi*D*(0.01*(i+1))))*np.exp(-x**2/(4*D*(0.01*(i+1)))))\n",
    "    ax.set_title(r'$u(t,x) =\\frac{{Q}}{{\\sqrt{{4\\pi D t}}}}\\\n",
    "                    exp\\left(\\frac{{-x^2}}{{4Dt}}\\right)$ t={}'.format(i/100))\n",
    "    line.set_data(x, y)\n",
    "    return (line,)\n",
    "#3. Fonction d'initialisation (dessine le cadre pour chaque image)\n",
    "def init():\n",
    "    line.set_data([], [])\n",
    "    return (line,)\n",
    "#4.  Appel de l'animateur. blit=True pour ne redessiner que ce qui a changé\n",
    "anim = animation.FuncAnimation(fig, animate, init_func=init,\n",
    "                               frames=500, interval=50, blit=True)"
   ]
  },
  {
   "cell_type": "code",
   "execution_count": null,
   "metadata": {
    "slideshow": {
     "slide_type": "slide"
    }
   },
   "outputs": [],
   "source": [
    "HTML(anim.to_html5_video())"
   ]
  },
  {
   "cell_type": "markdown",
   "metadata": {
    "slideshow": {
     "slide_type": "fragment"
    }
   },
   "source": [
    "$u(t,x) =\\dfrac{Q}{\\sqrt{4\\pi D t}}\\exp\\left(\\dfrac{-x^2}{4Dt}\\right)$"
   ]
  },
  {
   "cell_type": "code",
   "execution_count": null,
   "metadata": {},
   "outputs": [],
   "source": []
  }
 ],
 "metadata": {
  "celltoolbar": "Slideshow",
  "hide_input": false,
  "kernelspec": {
   "display_name": "Python 3",
   "language": "python",
   "name": "python3"
  },
  "language_info": {
   "codemirror_mode": {
    "name": "ipython",
    "version": 3
   },
   "file_extension": ".py",
   "mimetype": "text/x-python",
   "name": "python",
   "nbconvert_exporter": "python",
   "pygments_lexer": "ipython3",
   "version": "3.6.3"
  },
  "latex_envs": {
   "LaTeX_envs_menu_present": true,
   "autocomplete": true,
   "bibliofile": "biblio.bib",
   "cite_by": "apalike",
   "current_citInitial": 1,
   "eqLabelWithNumbers": true,
   "eqNumInitial": 1,
   "hotkeys": {
    "equation": "ctrl-c,ctrl-c"
   },
   "labels_anchors": false,
   "latex_user_defs": false,
   "report_style_numbering": false,
   "user_envs_cfg": true
  },
  "toc": {
   "nav_menu": {},
   "number_sections": true,
   "sideBar": true,
   "skip_h1_title": false,
   "title_cell": "Table of Contents",
   "title_sidebar": "Plan",
   "toc_cell": false,
   "toc_position": {
    "height": "calc(100% - 180px)",
    "left": "10px",
    "top": "150px",
    "width": "311px"
   },
   "toc_section_display": true,
   "toc_window_display": true
  },
  "varInspector": {
   "cols": {
    "lenName": 16,
    "lenType": 16,
    "lenVar": 40
   },
   "kernels_config": {
    "python": {
     "delete_cmd_postfix": "",
     "delete_cmd_prefix": "del ",
     "library": "var_list.py",
     "varRefreshCmd": "print(var_dic_list())"
    },
    "r": {
     "delete_cmd_postfix": ") ",
     "delete_cmd_prefix": "rm(",
     "library": "var_list.r",
     "varRefreshCmd": "cat(var_dic_list()) "
    }
   },
   "types_to_exclude": [
    "module",
    "function",
    "builtin_function_or_method",
    "instance",
    "_Feature"
   ],
   "window_display": false
  }
 },
 "nbformat": 4,
 "nbformat_minor": 2
}
