{
 "cells": [
  {
   "cell_type": "code",
   "execution_count": 1,
   "metadata": {
    "slideshow": {
     "slide_type": "skip"
    }
   },
   "outputs": [],
   "source": [
    "import matplotlib.pyplot as plt\n",
    "import pandas as pd\n",
    "import numpy as np\n",
    "from scipy.stats import norm\n",
    "%matplotlib inline"
   ]
  },
  {
   "cell_type": "code",
   "execution_count": null,
   "metadata": {
    "slideshow": {
     "slide_type": "skip"
    }
   },
   "outputs": [],
   "source": [
    "Phi = norm.cdf\n",
    "N = 30\n",
    "X = np.linspace(0,3,100)\n",
    "Y = np.round(N*(Phi(X)-0.5),0)\n",
    "D = np.diff(Y)\n",
    "support = [X[k] for k in range(1,len(X)-1) if D[k-1]==1] \n",
    "support+=[-k for k in support]\n",
    "support=[(1*s) for s in support]\n",
    "L = len(support)\n",
    "support.sort()\n",
    "valeurs =  np.ones_like(support)/N\n",
    "AN = [int(1000*a)/1000 for a in support if a>0]\n"
   ]
  },
  {
   "cell_type": "markdown",
   "metadata": {
    "slideshow": {
     "slide_type": "slide"
    }
   },
   "source": [
    "## Un premier exemple"
   ]
  },
  {
   "cell_type": "markdown",
   "metadata": {
    "slideshow": {
     "slide_type": "slide"
    }
   },
   "source": [
    "## Un second exemple"
   ]
  },
  {
   "cell_type": "code",
   "execution_count": 191,
   "metadata": {
    "slideshow": {
     "slide_type": "slide"
    }
   },
   "outputs": [
    {
     "name": "stdout",
     "output_type": "stream",
     "text": [
      "[0.06, 0.151, 0.212, 0.303, 0.393, 0.484, 0.575, 0.696, 0.787, 0.909, 1.06, 1.212, 1.393, 1.666, 2.151]\n"
     ]
    },
    {
     "data": {
      "image/png": "[encoded data removed]",
      "text/plain": [
       "<matplotlib.figure.Figure at 0x113c6ef60>"
      ]
     },
     "metadata": {},
     "output_type": "display_data"
    }
   ],
   "source": [
    "plt.figure(figsize=(10,2));\n",
    "plt.title(\"Loi d'une VAR uniforme ({0} points symétriquement répartis) \".format(L))\n",
    "print(AN)\n",
    "plt.bar(support,valeurs, width=0.03);"
   ]
  },
  {
   "cell_type": "markdown",
   "metadata": {
    "slideshow": {
     "slide_type": "fragment"
    }
   },
   "source": [
    "1. La loi est **uniforme** : $P(X=x_k)=P(X=x_j)$ pour $x_j,x_k$ dans $X(\\Omega)$.\n",
    "2. La loi **n'est pas équirépartie** : les $x_k$ sont plus concentrés autour de $0.$"
   ]
  },
  {
   "cell_type": "code",
   "execution_count": 165,
   "metadata": {
    "slideshow": {
     "slide_type": "skip"
    }
   },
   "outputs": [],
   "source": [
    "serie = pd.DataFrame({\"xk\":support})\n",
    "sigma = serie.std(ddof=0)\n",
    "\n",
    "nbins = 10\n",
    "#bins = np.linspace(a,b,int((b-a)/sigma))\n",
    "\n",
    "def histo(nbins):\n",
    "    \n",
    "    Phi = norm.cdf\n",
    "    N = 30\n",
    "    X = np.linspace(0,3,100)\n",
    "    Y = np.round(N*(Phi(X)-0.5),0)\n",
    "    D = np.diff(Y)\n",
    "    support = [X[k] for k in range(1,len(X)-1) if D[k-1]==1] \n",
    "    support+=[-k for k in support]\n",
    "    support=[(1*s) for s in support]\n",
    "    a = min(support)\n",
    "    b = max(support)\n",
    "    L = len(support)\n",
    "    support.sort()\n",
    "    serie.hist(normed=True,ec='white',alpha=0.40,bins=nbins);\n",
    "    x = np.linspace(min(support),max(support))\n",
    "    button1= widgets.RadioButtons(\n",
    "    options={\"Avec la densité\":1,\"Sans la densité\":0})\n",
    "    plt.plot(x,norm.pdf(x,scale = sigma))\n",
    "    plt.ylim([0,0.7])\n",
    "    s = np.round((b-a)/nbins,2)\n",
    "    plt.title(\"{0} classes. Unité d'écart : {1}\".format(nbins,s))"
   ]
  },
  {
   "cell_type": "code",
   "execution_count": 166,
   "metadata": {
    "slideshow": {
     "slide_type": "skip"
    }
   },
   "outputs": [],
   "source": [
    "from ipywidgets import interact, interactive, fixed, interact_manual\n",
    "import ipywidgets as widgets"
   ]
  },
  {
   "cell_type": "code",
   "execution_count": 170,
   "metadata": {
    "slideshow": {
     "slide_type": "slide"
    }
   },
   "outputs": [
    {
     "data": {
      "application/vnd.jupyter.widget-view+json": {
       "model_id": "112329c7fdd144dfbdbf008ac8f328fb",
       "version_major": 2,
       "version_minor": 0
      },
      "text/html": [
       "<p>Failed to display Jupyter Widget of type <code>interactive</code>.</p>\n",
       "<p>\n",
       "  If you're reading this message in the Jupyter Notebook or JupyterLab Notebook, it may mean\n",
       "  that the widgets JavaScript is still loading. If this message persists, it\n",
       "  likely means that the widgets JavaScript library is either not installed or\n",
       "  not enabled. See the <a href=\"https://ipywidgets.readthedocs.io/en/stable/user_install.html\">Jupyter\n",
       "  Widgets Documentation</a> for setup instructions.\n",
       "</p>\n",
       "<p>\n",
       "  If you're reading this message in another frontend (for example, a static\n",
       "  rendering on GitHub or <a href=\"https://nbviewer.jupyter.org/\">NBViewer</a>),\n",
       "  it may mean that your frontend doesn't currently support widgets.\n",
       "</p>\n"
      ],
      "text/plain": [
       "interactive(children=(IntSlider(value=61, description='nbins', max=61, min=1), Output()), _dom_classes=('widget-interact',))"
      ]
     },
     "metadata": {},
     "output_type": "display_data"
    }
   ],
   "source": [
    "interact(histo,nbins=widgets.IntSlider(min=1,max=61,step=1,value=61));"
   ]
  },
  {
   "cell_type": "code",
   "execution_count": null,
   "metadata": {
    "slideshow": {
     "slide_type": "skip"
    }
   },
   "outputs": [],
   "source": []
  }
 ],
 "metadata": {
  "celltoolbar": "Slideshow",
  "hide_input": false,
  "kernelspec": {
   "display_name": "Python 3",
   "language": "python",
   "name": "python3"
  },
  "language_info": {
   "codemirror_mode": {
    "name": "ipython",
    "version": 3
   },
   "file_extension": ".py",
   "mimetype": "text/x-python",
   "name": "python",
   "nbconvert_exporter": "python",
   "pygments_lexer": "ipython3",
   "version": "3.6.3"
  },
  "latex_envs": {
   "LaTeX_envs_menu_present": true,
   "autocomplete": true,
   "bibliofile": "biblio.bib",
   "cite_by": "apalike",
   "current_citInitial": 1,
   "eqLabelWithNumbers": true,
   "eqNumInitial": 1,
   "hotkeys": {
    "equation": "ctrl-c,ctrl-c"
   },
   "labels_anchors": false,
   "latex_user_defs": false,
   "report_style_numbering": false,
   "user_envs_cfg": true
  },
  "toc": {
   "nav_menu": {},
   "number_sections": true,
   "sideBar": true,
   "skip_h1_title": false,
   "title_cell": "Table of Contents",
   "title_sidebar": "Contents",
   "toc_cell": false,
   "toc_position": {},
   "toc_section_display": true,
   "toc_window_display": false
  },
  "varInspector": {
   "cols": {
    "lenName": 16,
    "lenType": 16,
    "lenVar": 40
   },
   "kernels_config": {
    "python": {
     "delete_cmd_postfix": "",
     "delete_cmd_prefix": "del ",
     "library": "var_list.py",
     "varRefreshCmd": "print(var_dic_list())"
    },
    "r": {
     "delete_cmd_postfix": ") ",
     "delete_cmd_prefix": "rm(",
     "library": "var_list.r",
     "varRefreshCmd": "cat(var_dic_list()) "
    }
   },
   "position": {
    "height": "143px",
    "left": "980.434814453125px",
    "right": "20px",
    "top": "118.99456787109375px",
    "width": "350px"
   },
   "types_to_exclude": [
    "module",
    "function",
    "builtin_function_or_method",
    "instance",
    "_Feature"
   ],
   "window_display": true
  }
 },
 "nbformat": 4,
 "nbformat_minor": 2
}
